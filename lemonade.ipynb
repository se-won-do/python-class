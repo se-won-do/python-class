{
  "nbformat": 4,
  "nbformat_minor": 0,
  "metadata": {
    "colab": {
      "name": "lemonade.ipynb",
      "provenance": [],
      "mount_file_id": "1IxPvSIMW9oFzOow9Nh58HpMtn3JWiQ5s",
      "authorship_tag": "ABX9TyOFY1Mzb7eA/YL871Aby8Ey",
      "include_colab_link": true
    },
    "kernelspec": {
      "name": "python3",
      "display_name": "Python 3"
    },
    "language_info": {
      "name": "python"
    }
  },
  "cells": [
    {
      "cell_type": "markdown",
      "metadata": {
        "id": "view-in-github",
        "colab_type": "text"
      },
      "source": [
        "<a href=\"https://colab.research.google.com/github/se-won-do/python-class/blob/main/lemonade.ipynb\" target=\"_parent\"><img src=\"https://colab.research.google.com/assets/colab-badge.svg\" alt=\"Open In Colab\"/></a>"
      ]
    },
    {
      "cell_type": "markdown",
      "metadata": {
        "id": "TafcABTyEOPl"
      },
      "source": [
        "![레모네이드](https://encrypted-tbn0.gstatic.com/images?q=tbn:ANd9GcSx1R7G_knIP-E_kJA128YI1nVuVB2R3xVaJl_4t35JPUVoQY8M)\n",
        "\n",
        "\n",
        "- 문제: 매일 버리거나 남는 레몬이 있음. 레몬 에이드 판매량을 예측해 봅시다.\n"
      ]
    },
    {
      "cell_type": "markdown",
      "source": [
        "##01. 데이터 불러오기 및 분할"
      ],
      "metadata": {
        "id": "50mj-bRqGJEZ"
      }
    },
    {
      "cell_type": "code",
      "source": [
        "# pandas 패키지를 pd 이름으로 import 한다.\n",
        "import pandas as pd\n",
        "\n",
        "# 레모네이드 csv를 읽어들여서 변수 df에 담는다.\n",
        "#df = pd.read_csv('/content/drive/MyDrive/20220126/lemonade.csv')\n",
        "df = pd.read_csv('/content/drive/MyDrive/20220126/lemonade.csv',index_col=0)"
      ],
      "metadata": {
        "id": "S-OT9qQvGHEu"
      },
      "execution_count": 14,
      "outputs": []
    },
    {
      "cell_type": "code",
      "source": [
        "# df의 첫5개 행을 출력한다.\n",
        "print(df.head()) #default 5\n"
      ],
      "metadata": {
        "colab": {
          "base_uri": "https://localhost:8080/"
        },
        "id": "nwUF8pfPGREF",
        "outputId": "d2e4a00c-7cac-43bf-8534-8099fd33fcd0"
      },
      "execution_count": 15,
      "outputs": [
        {
          "output_type": "stream",
          "name": "stdout",
          "text": [
            "     온도  휴일  불쾌지수  판매량\n",
            "0  14.3   1  매우나쁨  151\n",
            "1  14.5   0  매우나쁨  118\n",
            "2  18.2   0  매우나쁨  149\n",
            "3  20.2   0  매우나쁨  160\n",
            "4  19.7   0  매우나쁨  160\n"
          ]
        }
      ]
    },
    {
      "cell_type": "code",
      "source": [
        "# df의 shape를 확인한다. (126, 3)\n",
        "print(df.shape)"
      ],
      "metadata": {
        "id": "xCaYgqarGTpm"
      },
      "execution_count": null,
      "outputs": []
    },
    {
      "cell_type": "code",
      "source": [
        "print(df.info())"
      ],
      "metadata": {
        "colab": {
          "base_uri": "https://localhost:8080/"
        },
        "id": "wc12NRE6Fs09",
        "outputId": "67349e64-fcd7-4f42-efd8-9359926a7913"
      },
      "execution_count": 4,
      "outputs": [
        {
          "output_type": "stream",
          "name": "stdout",
          "text": [
            "<class 'pandas.core.frame.DataFrame'>\n",
            "RangeIndex: 126 entries, 0 to 125\n",
            "Data columns (total 5 columns):\n",
            " #   Column      Non-Null Count  Dtype  \n",
            "---  ------      --------------  -----  \n",
            " 0   Unnamed: 0  126 non-null    int64  \n",
            " 1   온도          126 non-null    float64\n",
            " 2   휴일          126 non-null    int64  \n",
            " 3   불쾌지수        126 non-null    object \n",
            " 4   판매량         126 non-null    int64  \n",
            "dtypes: float64(1), int64(3), object(1)\n",
            "memory usage: 5.0+ KB\n",
            "None\n"
          ]
        }
      ]
    },
    {
      "cell_type": "code",
      "execution_count": 16,
      "metadata": {
        "colab": {
          "base_uri": "https://localhost:8080/"
        },
        "id": "lGHg_qvffGsE",
        "outputId": "e4f7afec-5ede-4456-c5f8-e0783797ec08"
      },
      "outputs": [
        {
          "output_type": "stream",
          "name": "stdout",
          "text": [
            "(126, 2)\n",
            "     온도  휴일\n",
            "0  14.3   1\n",
            "1  14.5   0\n",
            "2  18.2   0\n",
            "3  20.2   0\n",
            "4  19.7   0\n"
          ]
        }
      ],
      "source": [
        "# 1, 2번째 칼럼(temperature, holiday)을 x_input 변수에 담는다.\n",
        "x_input = df.iloc[:, :2]\n",
        "\n",
        "# x_input의 shape를 확인한다. (126, 2)\n",
        "print(x_input.shape)\n",
        "print(x_input.head())"
      ]
    },
    {
      "cell_type": "code",
      "source": [
        "# 3번째 칼럼(lemonade)을 y_input 변수에 담는다.\n",
        "y_label = df.iloc[:, 3:]\n",
        "\n",
        "# y_input의 shape를 확인한다. (126, 1)\n",
        "print(y_label.shape)"
      ],
      "metadata": {
        "colab": {
          "base_uri": "https://localhost:8080/"
        },
        "id": "hQx8VPziHUko",
        "outputId": "de63ecf6-9273-4e66-a43e-756fdcc70714"
      },
      "execution_count": 23,
      "outputs": [
        {
          "output_type": "stream",
          "name": "stdout",
          "text": [
            "(126, 1)\n"
          ]
        }
      ]
    },
    {
      "cell_type": "code",
      "source": [
        "from sklearn.model_selection import train_test_split\n",
        "X_train, X_test, y_train, y_test = train_test_split(x_input, \n",
        "\n",
        "                                                    y_label , \n",
        "\n",
        "                                                    test_size=0.4, \n",
        "\n",
        "                                                    shuffle=False, \n",
        "\n",
        "                                                    random_state=42)\n",
        "\n",
        "\n",
        "\n",
        "print('X_train shape:', X_train.shape)\n",
        "\n",
        "print('X_test shape:', X_test.shape)\n",
        "\n",
        "print('y_train shape:', y_train.shape)\n",
        "\n",
        "print('y_test shape:', y_test.shape)\n"
      ],
      "metadata": {
        "colab": {
          "base_uri": "https://localhost:8080/"
        },
        "id": "MFiib0V1LAPE",
        "outputId": "96db6a19-73f3-4a39-8167-ebd3ebf92ef5"
      },
      "execution_count": 24,
      "outputs": [
        {
          "output_type": "stream",
          "name": "stdout",
          "text": [
            "X_train shape: (75, 2)\n",
            "X_test shape: (51, 2)\n",
            "y_train shape: (75, 1)\n",
            "y_test shape: (51, 1)\n"
          ]
        }
      ]
    },
    {
      "cell_type": "markdown",
      "source": [
        "##02. 모델 적용 "
      ],
      "metadata": {
        "id": "HLw2bJTRIrdM"
      }
    },
    {
      "cell_type": "code",
      "metadata": {
        "id": "Cj5FrA4Qm8tV",
        "colab": {
          "base_uri": "https://localhost:8080/"
        },
        "outputId": "430efb55-e2b3-42d2-f82d-caac1f8be032"
      },
      "source": [
        "from sklearn.linear_model import LinearRegression\n",
        "\n",
        "\n",
        "# 모델 생성 및 선택\n",
        "model=LinearRegression()\n",
        "\n",
        "# 학습\n",
        "model.fit(X_train, y_train)\n",
        "\n",
        "# 평가\n",
        "\n",
        "train_score=model.score(X_train, y_train) #accurarcy\n",
        "print(\"train score=\",train_score)\n",
        "y_pred = model.predict(X_train)\n",
        "#print(y_pred) #예측값 확인\n",
        "test_score= model.score(X_test, y_test)\n",
        "print(\"test score=\",test_score)\n",
        "\n"
      ],
      "execution_count": 32,
      "outputs": [
        {
          "output_type": "stream",
          "name": "stdout",
          "text": [
            "train score= 0.9495197045949882\n",
            "test score= 0.9124153633376346\n"
          ]
        }
      ]
    },
    {
      "cell_type": "markdown",
      "source": [
        "##02.데이터 전처리"
      ],
      "metadata": {
        "id": "rsQ5TsqBTNti"
      }
    },
    {
      "cell_type": "code",
      "source": [
        "# pandas 패키지를 pd 이름으로 import 한다.\n",
        "import pandas as pd\n",
        "\n",
        "# 레모네이드 csv를 읽어들여서 변수 df에 담는다.\n",
        "#df = pd.read_csv('/content/drive/MyDrive/20220126/lemonade.csv')\n",
        "df = pd.read_csv('/content/drive/MyDrive/20220126/lemonade.csv',index_col=0)\n",
        "\n",
        "x = df.iloc[:, :2]\n",
        "y_label = df.iloc[:, 3:]\n",
        "df_dummy=pd.get_dummies(df['불쾌지수'])\n",
        "x_input=pd.concat([x,df_dummy],axis=1)"
      ],
      "metadata": {
        "id": "ZmFMSvdgTTs3"
      },
      "execution_count": 42,
      "outputs": []
    },
    {
      "cell_type": "code",
      "source": [
        "print(df.head())"
      ],
      "metadata": {
        "colab": {
          "base_uri": "https://localhost:8080/"
        },
        "id": "U8aIbjE2Ung8",
        "outputId": "8b790207-866d-44bb-ee20-e9b77ff1604a"
      },
      "execution_count": 37,
      "outputs": [
        {
          "output_type": "stream",
          "name": "stdout",
          "text": [
            "     온도  휴일  불쾌지수  판매량\n",
            "0  14.3   1  매우나쁨  151\n",
            "1  14.5   0  매우나쁨  118\n",
            "2  18.2   0  매우나쁨  149\n",
            "3  20.2   0  매우나쁨  160\n",
            "4  19.7   0  매우나쁨  160\n"
          ]
        }
      ]
    },
    {
      "cell_type": "code",
      "source": [
        "print(df_dummy.head())"
      ],
      "metadata": {
        "colab": {
          "base_uri": "https://localhost:8080/"
        },
        "id": "kjew4AmgUC5a",
        "outputId": "71444dee-5039-4677-e8b7-c140db62f041"
      },
      "execution_count": 39,
      "outputs": [
        {
          "output_type": "stream",
          "name": "stdout",
          "text": [
            "   나쁨  매우나쁨  보통  쾌적\n",
            "0   0     1   0   0\n",
            "1   0     1   0   0\n",
            "2   0     1   0   0\n",
            "3   0     1   0   0\n",
            "4   0     1   0   0\n"
          ]
        }
      ]
    },
    {
      "cell_type": "code",
      "source": [
        "x_input.head()"
      ],
      "metadata": {
        "colab": {
          "base_uri": "https://localhost:8080/",
          "height": 206
        },
        "id": "7WO_03s1UR1T",
        "outputId": "f82d5efa-44ee-406c-c82e-ce8da11bd204"
      },
      "execution_count": 41,
      "outputs": [
        {
          "output_type": "execute_result",
          "data": {
            "text/html": [
              "\n",
              "  <div id=\"df-6f8b31a9-dba8-4ff1-8255-dd2490dc3fd4\">\n",
              "    <div class=\"colab-df-container\">\n",
              "      <div>\n",
              "<style scoped>\n",
              "    .dataframe tbody tr th:only-of-type {\n",
              "        vertical-align: middle;\n",
              "    }\n",
              "\n",
              "    .dataframe tbody tr th {\n",
              "        vertical-align: top;\n",
              "    }\n",
              "\n",
              "    .dataframe thead th {\n",
              "        text-align: right;\n",
              "    }\n",
              "</style>\n",
              "<table border=\"1\" class=\"dataframe\">\n",
              "  <thead>\n",
              "    <tr style=\"text-align: right;\">\n",
              "      <th></th>\n",
              "      <th>온도</th>\n",
              "      <th>휴일</th>\n",
              "      <th>나쁨</th>\n",
              "      <th>매우나쁨</th>\n",
              "      <th>보통</th>\n",
              "      <th>쾌적</th>\n",
              "    </tr>\n",
              "  </thead>\n",
              "  <tbody>\n",
              "    <tr>\n",
              "      <th>0</th>\n",
              "      <td>14.3</td>\n",
              "      <td>1</td>\n",
              "      <td>0</td>\n",
              "      <td>1</td>\n",
              "      <td>0</td>\n",
              "      <td>0</td>\n",
              "    </tr>\n",
              "    <tr>\n",
              "      <th>1</th>\n",
              "      <td>14.5</td>\n",
              "      <td>0</td>\n",
              "      <td>0</td>\n",
              "      <td>1</td>\n",
              "      <td>0</td>\n",
              "      <td>0</td>\n",
              "    </tr>\n",
              "    <tr>\n",
              "      <th>2</th>\n",
              "      <td>18.2</td>\n",
              "      <td>0</td>\n",
              "      <td>0</td>\n",
              "      <td>1</td>\n",
              "      <td>0</td>\n",
              "      <td>0</td>\n",
              "    </tr>\n",
              "    <tr>\n",
              "      <th>3</th>\n",
              "      <td>20.2</td>\n",
              "      <td>0</td>\n",
              "      <td>0</td>\n",
              "      <td>1</td>\n",
              "      <td>0</td>\n",
              "      <td>0</td>\n",
              "    </tr>\n",
              "    <tr>\n",
              "      <th>4</th>\n",
              "      <td>19.7</td>\n",
              "      <td>0</td>\n",
              "      <td>0</td>\n",
              "      <td>1</td>\n",
              "      <td>0</td>\n",
              "      <td>0</td>\n",
              "    </tr>\n",
              "  </tbody>\n",
              "</table>\n",
              "</div>\n",
              "      <button class=\"colab-df-convert\" onclick=\"convertToInteractive('df-6f8b31a9-dba8-4ff1-8255-dd2490dc3fd4')\"\n",
              "              title=\"Convert this dataframe to an interactive table.\"\n",
              "              style=\"display:none;\">\n",
              "        \n",
              "  <svg xmlns=\"http://www.w3.org/2000/svg\" height=\"24px\"viewBox=\"0 0 24 24\"\n",
              "       width=\"24px\">\n",
              "    <path d=\"M0 0h24v24H0V0z\" fill=\"none\"/>\n",
              "    <path d=\"M18.56 5.44l.94 2.06.94-2.06 2.06-.94-2.06-.94-.94-2.06-.94 2.06-2.06.94zm-11 1L8.5 8.5l.94-2.06 2.06-.94-2.06-.94L8.5 2.5l-.94 2.06-2.06.94zm10 10l.94 2.06.94-2.06 2.06-.94-2.06-.94-.94-2.06-.94 2.06-2.06.94z\"/><path d=\"M17.41 7.96l-1.37-1.37c-.4-.4-.92-.59-1.43-.59-.52 0-1.04.2-1.43.59L10.3 9.45l-7.72 7.72c-.78.78-.78 2.05 0 2.83L4 21.41c.39.39.9.59 1.41.59.51 0 1.02-.2 1.41-.59l7.78-7.78 2.81-2.81c.8-.78.8-2.07 0-2.86zM5.41 20L4 18.59l7.72-7.72 1.47 1.35L5.41 20z\"/>\n",
              "  </svg>\n",
              "      </button>\n",
              "      \n",
              "  <style>\n",
              "    .colab-df-container {\n",
              "      display:flex;\n",
              "      flex-wrap:wrap;\n",
              "      gap: 12px;\n",
              "    }\n",
              "\n",
              "    .colab-df-convert {\n",
              "      background-color: #E8F0FE;\n",
              "      border: none;\n",
              "      border-radius: 50%;\n",
              "      cursor: pointer;\n",
              "      display: none;\n",
              "      fill: #1967D2;\n",
              "      height: 32px;\n",
              "      padding: 0 0 0 0;\n",
              "      width: 32px;\n",
              "    }\n",
              "\n",
              "    .colab-df-convert:hover {\n",
              "      background-color: #E2EBFA;\n",
              "      box-shadow: 0px 1px 2px rgba(60, 64, 67, 0.3), 0px 1px 3px 1px rgba(60, 64, 67, 0.15);\n",
              "      fill: #174EA6;\n",
              "    }\n",
              "\n",
              "    [theme=dark] .colab-df-convert {\n",
              "      background-color: #3B4455;\n",
              "      fill: #D2E3FC;\n",
              "    }\n",
              "\n",
              "    [theme=dark] .colab-df-convert:hover {\n",
              "      background-color: #434B5C;\n",
              "      box-shadow: 0px 1px 3px 1px rgba(0, 0, 0, 0.15);\n",
              "      filter: drop-shadow(0px 1px 2px rgba(0, 0, 0, 0.3));\n",
              "      fill: #FFFFFF;\n",
              "    }\n",
              "  </style>\n",
              "\n",
              "      <script>\n",
              "        const buttonEl =\n",
              "          document.querySelector('#df-6f8b31a9-dba8-4ff1-8255-dd2490dc3fd4 button.colab-df-convert');\n",
              "        buttonEl.style.display =\n",
              "          google.colab.kernel.accessAllowed ? 'block' : 'none';\n",
              "\n",
              "        async function convertToInteractive(key) {\n",
              "          const element = document.querySelector('#df-6f8b31a9-dba8-4ff1-8255-dd2490dc3fd4');\n",
              "          const dataTable =\n",
              "            await google.colab.kernel.invokeFunction('convertToInteractive',\n",
              "                                                     [key], {});\n",
              "          if (!dataTable) return;\n",
              "\n",
              "          const docLinkHtml = 'Like what you see? Visit the ' +\n",
              "            '<a target=\"_blank\" href=https://colab.research.google.com/notebooks/data_table.ipynb>data table notebook</a>'\n",
              "            + ' to learn more about interactive tables.';\n",
              "          element.innerHTML = '';\n",
              "          dataTable['output_type'] = 'display_data';\n",
              "          await google.colab.output.renderOutput(dataTable, element);\n",
              "          const docLink = document.createElement('div');\n",
              "          docLink.innerHTML = docLinkHtml;\n",
              "          element.appendChild(docLink);\n",
              "        }\n",
              "      </script>\n",
              "    </div>\n",
              "  </div>\n",
              "  "
            ],
            "text/plain": [
              "     온도  휴일  나쁨  매우나쁨  보통  쾌적\n",
              "0  14.3   1   0     1   0   0\n",
              "1  14.5   0   0     1   0   0\n",
              "2  18.2   0   0     1   0   0\n",
              "3  20.2   0   0     1   0   0\n",
              "4  19.7   0   0     1   0   0"
            ]
          },
          "metadata": {},
          "execution_count": 41
        }
      ]
    },
    {
      "cell_type": "code",
      "source": [
        "from sklearn.model_selection import train_test_split\n",
        "X_train, X_test, y_train, y_test = train_test_split(x_input, \n",
        "\n",
        "                                                    y_label , \n",
        "\n",
        "                                                    test_size=0.4, \n",
        "\n",
        "                                                    shuffle=False, \n",
        "\n",
        "                                                    random_state=42)\n",
        "\n",
        "\n",
        "\n",
        "print('X_train shape:', X_train.shape)\n",
        "\n",
        "print('X_test shape:', X_test.shape)\n",
        "\n",
        "print('y_train shape:', y_train.shape)\n",
        "\n",
        "print('y_test shape:', y_test.shape)"
      ],
      "metadata": {
        "colab": {
          "base_uri": "https://localhost:8080/"
        },
        "id": "QfXDc3Z6U4WS",
        "outputId": "1d7cc6db-325c-4dcd-ff2f-63d1307e83ed"
      },
      "execution_count": 43,
      "outputs": [
        {
          "output_type": "stream",
          "name": "stdout",
          "text": [
            "X_train shape: (75, 6)\n",
            "X_test shape: (51, 6)\n",
            "y_train shape: (75, 1)\n",
            "y_test shape: (51, 1)\n"
          ]
        }
      ]
    },
    {
      "cell_type": "code",
      "source": [
        "from sklearn.linear_model import LinearRegression\n",
        "\n",
        "\n",
        "# 모델 생성 및 선택\n",
        "model=LinearRegression()\n",
        "\n",
        "# 학습\n",
        "model.fit(X_train, y_train)\n",
        "\n",
        "# 평가\n",
        "\n",
        "train_score=model.score(X_train, y_train) #accurarcy\n",
        "print(\"train score=\",train_score)\n",
        "y_pred = model.predict(X_train)\n",
        "#print(y_pred) #예측값 확인\n",
        "test_score= model.score(X_test, y_test)\n",
        "print(\"test score=\",test_score)"
      ],
      "metadata": {
        "colab": {
          "base_uri": "https://localhost:8080/"
        },
        "id": "q2GrxLcYVMnv",
        "outputId": "63761160-cbe1-4a0e-c1a1-eece2ee4f985"
      },
      "execution_count": 44,
      "outputs": [
        {
          "output_type": "stream",
          "name": "stdout",
          "text": [
            "train score= 0.9502080518804769\n",
            "test score= 0.9144161319826865\n"
          ]
        }
      ]
    }
  ]
}